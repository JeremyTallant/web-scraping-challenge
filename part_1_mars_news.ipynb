{
 "cells": [
  {
   "cell_type": "markdown",
   "metadata": {},
   "source": [
    "# Module 12 Challenge\n",
    "## Deliverable 1: Scrape Titles and Preview Text from Mars News"
   ]
  },
  {
   "cell_type": "code",
   "execution_count": 36,
   "metadata": {},
   "outputs": [],
   "source": [
    "# Import Splinter and BeautifulSoup\n",
    "from splinter import Browser\n",
    "from bs4 import BeautifulSoup as soup\n",
    "from webdriver_manager.chrome import ChromeDriverManager\n",
    "import json\n",
    "import pymongo\n",
    "import pandas"
   ]
  },
  {
   "cell_type": "code",
   "execution_count": 64,
   "metadata": {},
   "outputs": [],
   "source": [
    "# The default port used by MongoDB is 27017\n",
    "conn = 'mongodb://localhost:27017'\n",
    "client = pymongo.MongoClient(conn)\n",
    "# Declare the database\n",
    "db = client.mars_db\n",
    "# Declare the collection\n",
    "collection = db.news "
   ]
  },
  {
   "cell_type": "code",
   "execution_count": 2,
   "metadata": {
    "scrolled": true
   },
   "outputs": [],
   "source": [
    "executable_path = {'executable_path': ChromeDriverManager().install()}\n",
    "browser = Browser('chrome', **executable_path, headless=False)"
   ]
  },
  {
   "cell_type": "markdown",
   "metadata": {},
   "source": [
    "### Step 1: Visit the Website\n",
    "\n",
    "1. Use automated browsing to visit the [Mars NASA news site](https://redplanetscience.com). Inspect the page to identify which elements to scrape.\n",
    "\n",
    "      > **Hint** To identify which elements to scrape, you might want to inspect the page by using Chrome DevTools."
   ]
  },
  {
   "cell_type": "code",
   "execution_count": 3,
   "metadata": {},
   "outputs": [],
   "source": [
    "# Visit the Mars NASA news site: https://redplanetscience.com\n",
    "url = \"https://redplanetscience.com\"\n",
    "browser.visit(url)"
   ]
  },
  {
   "cell_type": "markdown",
   "metadata": {},
   "source": [
    "### Step 2: Scrape the Website\n",
    "\n",
    "Create a Beautiful Soup object and use it to extract text elements from the website."
   ]
  },
  {
   "cell_type": "code",
   "execution_count": 5,
   "metadata": {},
   "outputs": [],
   "source": [
    "# Create a Beautiful Soup object\n",
    "html = browser.html\n",
    "bs = soup(html, 'html.parser')"
   ]
  },
  {
   "cell_type": "code",
   "execution_count": 24,
   "metadata": {},
   "outputs": [],
   "source": [
    "# Extract all the text elements\n",
    "articles = bs.find_all('div', class_='col-md-8')"
   ]
  },
  {
   "cell_type": "markdown",
   "metadata": {
    "tags": []
   },
   "source": [
    "### Step 3: Store the Results\n",
    "\n",
    "Extract the titles and preview text of the news articles that you scraped. Store the scraping results in Python data structures as follows:\n",
    "\n",
    "* Store each title-and-preview pair in a Python dictionary. And, give each dictionary two keys: `title` and `preview`. An example is the following:\n",
    "\n",
    "  ```python\n",
    "  {'title': \"Mars Rover Begins Mission!\", \n",
    "        'preview': \"NASA's Mars Rover begins a multiyear mission to collect data about the little-explored planet.\"}\n",
    "  ```\n",
    "\n",
    "* Store all the dictionaries in a Python list.\n",
    "\n",
    "* Print the list in your notebook."
   ]
  },
  {
   "cell_type": "code",
   "execution_count": 58,
   "metadata": {},
   "outputs": [],
   "source": [
    "# Create an empty list to store the dictionaries\n",
    "data = []"
   ]
  },
  {
   "cell_type": "code",
   "execution_count": 66,
   "metadata": {},
   "outputs": [],
   "source": [
    "# Loop through the text elements\n",
    "for article in articles:\n",
    "    # Extract the title and preview text from the elements\n",
    "    title = article.find('div',class_='content_title').text\n",
    "    preview = article.find('div', class_='article_teaser_body').text\n",
    "    # Store each title and preview pair in a dictionary\n",
    "    article_data = {\n",
    "        'title': title,\n",
    "        'preview': preview\n",
    "    }\n",
    "    # Add the dictionary to the list\n",
    "    data.append(article_data)\n",
    "    # Insert the dictonary into the MongoDB database\n",
    "    collection.insert_one(article_data)"
   ]
  },
  {
   "cell_type": "code",
   "execution_count": 68,
   "metadata": {},
   "outputs": [
    {
     "data": {
      "text/plain": [
       "[{'title': \"Meet the People Behind NASA's Perseverance Rover\",\n",
       "  'preview': \"These are the scientists and engineers who built NASA's next Mars rover and who will guide it to a safe landing in Jezero Crater. \"},\n",
       " {'title': '7 Things to Know About the Mars 2020 Perseverance Rover Mission',\n",
       "  'preview': \"NASA's next rover to the Red Planet is slated to launch no earlier than July 30. These highlights will get you up to speed on the ambitious mission.\"},\n",
       " {'title': \"NASA's Curiosity Mars Rover Snaps Its Highest-Resolution Panorama Yet\",\n",
       "  'preview': 'To go along with the stunning 1.8-billion-pixel image, a new video offers a sweeping view of the Red Planet.'},\n",
       " {'title': \"How NASA's Mars Helicopter Will Reach the Red Planet's Surface\",\n",
       "  'preview': 'The small craft will seek to prove that powered, controlled flight is possible on another planet. But just getting it onto the surface of Mars will take a whole lot of ingenuity.'},\n",
       " {'title': 'NASA Moves Forward With Campaign to Return Mars Samples to Earth',\n",
       "  'preview': 'During this next phase, the program will mature critical technologies and make critical design decisions as well as assess industry partnerships.'},\n",
       " {'title': \"Celebrate Mars Reconnaissance Orbiter's Views From Above\",\n",
       "  'preview': 'Marking its 15th anniversary since launch, one of the oldest spacecraft at the Red Planet has provided glimpses of dust devils, avalanches, and more.'},\n",
       " {'title': 'Mars Scientists Investigate Ancient Life in Australia',\n",
       "  'preview': \"Teams with NASA's Mars 2020 and ESA's ExoMars practiced hunting for fossilized microbial life in the Australian Outback in preparation for their Red Planet missions. \"},\n",
       " {'title': \"NASA's Perseverance Rover Goes Through Trials by Fire, Ice, Light and Sound\",\n",
       "  'preview': \"The agency's new Mars rover is put through a series of tests in vacuum chambers, acoustic chambers and more to get ready for the Red Planet.\"},\n",
       " {'title': \"Common Questions about InSight's 'Mole'\",\n",
       "  'preview': 'The following Q&As with members of the team answer some of the most common questions about the burrowing device, part of a science instrument called the Heat Flow and Physical Properties Package (HP3).'},\n",
       " {'title': \"A Year of Surprising Science From NASA's InSight Mars Mission\",\n",
       "  'preview': \"A batch of new papers summarizes the lander's findings above and below the surface of the Red Planet.\"},\n",
       " {'title': 'NASA Adds Return Sample Scientists to Mars 2020 Leadership Team',\n",
       "  'preview': 'The leadership council for Mars 2020 science added two new members who represent the interests of scientists destined to handle and study the first samples from Red Planet.'},\n",
       " {'title': \"NASA Wins 4 Webbys, 4 People's Voice Awards\",\n",
       "  'preview': 'Winners include the JPL-managed \"Send Your Name to Mars\" campaign, NASA\\'s Global Climate Change website and Solar System Interactive.'},\n",
       " {'title': \"The Extraordinary Sample-Gathering System of NASA's Perseverance Mars Rover\",\n",
       "  'preview': 'Two astronauts collected Moon rocks on Apollo 11. It will take three robotic systems working together to gather up the first Mars rock samples for return to Earth.'},\n",
       " {'title': \"HiRISE Views NASA's InSight and Curiosity on Mars\",\n",
       "  'preview': 'New images taken from space offer the clearest orbital glimpse yet of InSight as well as a view of Curiosity rolling along.'},\n",
       " {'title': \"NASA's MAVEN Observes Martian Night Sky Pulsing in Ultraviolet Light\",\n",
       "  'preview': 'Vast areas of the Martian night sky pulse in ultraviolet light, according to images from NASA’s MAVEN spacecraft. The results are being used to illuminate complex circulation patterns in the Martian atmosphere.'},\n",
       " {'title': \"Meet the People Behind NASA's Perseverance Rover\",\n",
       "  'preview': \"These are the scientists and engineers who built NASA's next Mars rover and who will guide it to a safe landing in Jezero Crater. \"},\n",
       " {'title': \"Meet the People Behind NASA's Perseverance Rover\",\n",
       "  'preview': \"These are the scientists and engineers who built NASA's next Mars rover and who will guide it to a safe landing in Jezero Crater. \",\n",
       "  '_id': ObjectId('639c9e85bfe9e76e65d23e3c')},\n",
       " {'title': '7 Things to Know About the Mars 2020 Perseverance Rover Mission',\n",
       "  'preview': \"NASA's next rover to the Red Planet is slated to launch no earlier than July 30. These highlights will get you up to speed on the ambitious mission.\",\n",
       "  '_id': ObjectId('639c9e85bfe9e76e65d23e3d')},\n",
       " {'title': \"NASA's Curiosity Mars Rover Snaps Its Highest-Resolution Panorama Yet\",\n",
       "  'preview': 'To go along with the stunning 1.8-billion-pixel image, a new video offers a sweeping view of the Red Planet.',\n",
       "  '_id': ObjectId('639c9e85bfe9e76e65d23e3e')},\n",
       " {'title': \"How NASA's Mars Helicopter Will Reach the Red Planet's Surface\",\n",
       "  'preview': 'The small craft will seek to prove that powered, controlled flight is possible on another planet. But just getting it onto the surface of Mars will take a whole lot of ingenuity.',\n",
       "  '_id': ObjectId('639c9e85bfe9e76e65d23e3f')},\n",
       " {'title': 'NASA Moves Forward With Campaign to Return Mars Samples to Earth',\n",
       "  'preview': 'During this next phase, the program will mature critical technologies and make critical design decisions as well as assess industry partnerships.',\n",
       "  '_id': ObjectId('639c9e85bfe9e76e65d23e40')},\n",
       " {'title': \"Celebrate Mars Reconnaissance Orbiter's Views From Above\",\n",
       "  'preview': 'Marking its 15th anniversary since launch, one of the oldest spacecraft at the Red Planet has provided glimpses of dust devils, avalanches, and more.',\n",
       "  '_id': ObjectId('639c9e85bfe9e76e65d23e41')},\n",
       " {'title': 'Mars Scientists Investigate Ancient Life in Australia',\n",
       "  'preview': \"Teams with NASA's Mars 2020 and ESA's ExoMars practiced hunting for fossilized microbial life in the Australian Outback in preparation for their Red Planet missions. \",\n",
       "  '_id': ObjectId('639c9e85bfe9e76e65d23e42')},\n",
       " {'title': \"NASA's Perseverance Rover Goes Through Trials by Fire, Ice, Light and Sound\",\n",
       "  'preview': \"The agency's new Mars rover is put through a series of tests in vacuum chambers, acoustic chambers and more to get ready for the Red Planet.\",\n",
       "  '_id': ObjectId('639c9e85bfe9e76e65d23e43')},\n",
       " {'title': \"Common Questions about InSight's 'Mole'\",\n",
       "  'preview': 'The following Q&As with members of the team answer some of the most common questions about the burrowing device, part of a science instrument called the Heat Flow and Physical Properties Package (HP3).',\n",
       "  '_id': ObjectId('639c9e85bfe9e76e65d23e44')},\n",
       " {'title': \"A Year of Surprising Science From NASA's InSight Mars Mission\",\n",
       "  'preview': \"A batch of new papers summarizes the lander's findings above and below the surface of the Red Planet.\",\n",
       "  '_id': ObjectId('639c9e85bfe9e76e65d23e45')},\n",
       " {'title': 'NASA Adds Return Sample Scientists to Mars 2020 Leadership Team',\n",
       "  'preview': 'The leadership council for Mars 2020 science added two new members who represent the interests of scientists destined to handle and study the first samples from Red Planet.',\n",
       "  '_id': ObjectId('639c9e85bfe9e76e65d23e46')},\n",
       " {'title': \"NASA Wins 4 Webbys, 4 People's Voice Awards\",\n",
       "  'preview': 'Winners include the JPL-managed \"Send Your Name to Mars\" campaign, NASA\\'s Global Climate Change website and Solar System Interactive.',\n",
       "  '_id': ObjectId('639c9e85bfe9e76e65d23e47')},\n",
       " {'title': \"The Extraordinary Sample-Gathering System of NASA's Perseverance Mars Rover\",\n",
       "  'preview': 'Two astronauts collected Moon rocks on Apollo 11. It will take three robotic systems working together to gather up the first Mars rock samples for return to Earth.',\n",
       "  '_id': ObjectId('639c9e85bfe9e76e65d23e48')},\n",
       " {'title': \"HiRISE Views NASA's InSight and Curiosity on Mars\",\n",
       "  'preview': 'New images taken from space offer the clearest orbital glimpse yet of InSight as well as a view of Curiosity rolling along.',\n",
       "  '_id': ObjectId('639c9e85bfe9e76e65d23e49')},\n",
       " {'title': \"NASA's MAVEN Observes Martian Night Sky Pulsing in Ultraviolet Light\",\n",
       "  'preview': 'Vast areas of the Martian night sky pulse in ultraviolet light, according to images from NASA’s MAVEN spacecraft. The results are being used to illuminate complex circulation patterns in the Martian atmosphere.',\n",
       "  '_id': ObjectId('639c9e85bfe9e76e65d23e4a')}]"
      ]
     },
     "execution_count": 68,
     "metadata": {},
     "output_type": "execute_result"
    }
   ],
   "source": [
    "# Print the list to confirm success\n",
    "data"
   ]
  },
  {
   "cell_type": "code",
   "execution_count": 61,
   "metadata": {},
   "outputs": [],
   "source": [
    "browser.quit()"
   ]
  },
  {
   "cell_type": "markdown",
   "metadata": {},
   "source": [
    "### (Optional) Step 4: Export the Data\n",
    "\n",
    "Optionally, store the scraped data in a file or database (to ease sharing the data with others). To do so, export the scraped data to either a JSON file or a MongoDB database."
   ]
  },
  {
   "cell_type": "code",
   "execution_count": 62,
   "metadata": {},
   "outputs": [],
   "source": [
    "# Export data to JSON\n",
    "with open('data.json', 'w') as f:\n",
    "    json.dump(data, f)"
   ]
  },
  {
   "cell_type": "code",
   "execution_count": 67,
   "metadata": {},
   "outputs": [
    {
     "name": "stdout",
     "output_type": "stream",
     "text": [
      "{'_id': ObjectId('639c9e85bfe9e76e65d23e3c'), 'title': \"Meet the People Behind NASA's Perseverance Rover\", 'preview': \"These are the scientists and engineers who built NASA's next Mars rover and who will guide it to a safe landing in Jezero Crater. \"}\n",
      "{'_id': ObjectId('639c9e85bfe9e76e65d23e3d'), 'title': '7 Things to Know About the Mars 2020 Perseverance Rover Mission', 'preview': \"NASA's next rover to the Red Planet is slated to launch no earlier than July 30. These highlights will get you up to speed on the ambitious mission.\"}\n",
      "{'_id': ObjectId('639c9e85bfe9e76e65d23e3e'), 'title': \"NASA's Curiosity Mars Rover Snaps Its Highest-Resolution Panorama Yet\", 'preview': 'To go along with the stunning 1.8-billion-pixel image, a new video offers a sweeping view of the Red Planet.'}\n",
      "{'_id': ObjectId('639c9e85bfe9e76e65d23e3f'), 'title': \"How NASA's Mars Helicopter Will Reach the Red Planet's Surface\", 'preview': 'The small craft will seek to prove that powered, controlled flight is possible on another planet. But just getting it onto the surface of Mars will take a whole lot of ingenuity.'}\n",
      "{'_id': ObjectId('639c9e85bfe9e76e65d23e40'), 'title': 'NASA Moves Forward With Campaign to Return Mars Samples to Earth', 'preview': 'During this next phase, the program will mature critical technologies and make critical design decisions as well as assess industry partnerships.'}\n",
      "{'_id': ObjectId('639c9e85bfe9e76e65d23e41'), 'title': \"Celebrate Mars Reconnaissance Orbiter's Views From Above\", 'preview': 'Marking its 15th anniversary since launch, one of the oldest spacecraft at the Red Planet has provided glimpses of dust devils, avalanches, and more.'}\n",
      "{'_id': ObjectId('639c9e85bfe9e76e65d23e42'), 'title': 'Mars Scientists Investigate Ancient Life in Australia', 'preview': \"Teams with NASA's Mars 2020 and ESA's ExoMars practiced hunting for fossilized microbial life in the Australian Outback in preparation for their Red Planet missions. \"}\n",
      "{'_id': ObjectId('639c9e85bfe9e76e65d23e43'), 'title': \"NASA's Perseverance Rover Goes Through Trials by Fire, Ice, Light and Sound\", 'preview': \"The agency's new Mars rover is put through a series of tests in vacuum chambers, acoustic chambers and more to get ready for the Red Planet.\"}\n",
      "{'_id': ObjectId('639c9e85bfe9e76e65d23e44'), 'title': \"Common Questions about InSight's 'Mole'\", 'preview': 'The following Q&As with members of the team answer some of the most common questions about the burrowing device, part of a science instrument called the Heat Flow and Physical Properties Package (HP3).'}\n",
      "{'_id': ObjectId('639c9e85bfe9e76e65d23e45'), 'title': \"A Year of Surprising Science From NASA's InSight Mars Mission\", 'preview': \"A batch of new papers summarizes the lander's findings above and below the surface of the Red Planet.\"}\n",
      "{'_id': ObjectId('639c9e85bfe9e76e65d23e46'), 'title': 'NASA Adds Return Sample Scientists to Mars 2020 Leadership Team', 'preview': 'The leadership council for Mars 2020 science added two new members who represent the interests of scientists destined to handle and study the first samples from Red Planet.'}\n",
      "{'_id': ObjectId('639c9e85bfe9e76e65d23e47'), 'title': \"NASA Wins 4 Webbys, 4 People's Voice Awards\", 'preview': 'Winners include the JPL-managed \"Send Your Name to Mars\" campaign, NASA\\'s Global Climate Change website and Solar System Interactive.'}\n",
      "{'_id': ObjectId('639c9e85bfe9e76e65d23e48'), 'title': \"The Extraordinary Sample-Gathering System of NASA's Perseverance Mars Rover\", 'preview': 'Two astronauts collected Moon rocks on Apollo 11. It will take three robotic systems working together to gather up the first Mars rock samples for return to Earth.'}\n",
      "{'_id': ObjectId('639c9e85bfe9e76e65d23e49'), 'title': \"HiRISE Views NASA's InSight and Curiosity on Mars\", 'preview': 'New images taken from space offer the clearest orbital glimpse yet of InSight as well as a view of Curiosity rolling along.'}\n",
      "{'_id': ObjectId('639c9e85bfe9e76e65d23e4a'), 'title': \"NASA's MAVEN Observes Martian Night Sky Pulsing in Ultraviolet Light\", 'preview': 'Vast areas of the Martian night sky pulse in ultraviolet light, according to images from NASA’s MAVEN spacecraft. The results are being used to illuminate complex circulation patterns in the Martian atmosphere.'}\n"
     ]
    }
   ],
   "source": [
    "# Export data to MongoDB\n",
    "items = db.news.find()\n",
    "\n",
    "for item in items:\n",
    "    print(item)"
   ]
  }
 ],
 "metadata": {
  "kernelspec": {
   "display_name": "Python 3 (ipykernel)",
   "language": "python",
   "name": "python3"
  },
  "language_info": {
   "codemirror_mode": {
    "name": "ipython",
    "version": 3
   },
   "file_extension": ".py",
   "mimetype": "text/x-python",
   "name": "python",
   "nbconvert_exporter": "python",
   "pygments_lexer": "ipython3",
   "version": "3.9.6"
  },
  "vscode": {
   "interpreter": {
    "hash": "31f2aee4e71d21fbe5cf8b01ff0e069b9275f58929596ceb00d14d90e3e16cd6"
   }
  }
 },
 "nbformat": 4,
 "nbformat_minor": 4
}
