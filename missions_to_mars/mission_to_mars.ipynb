{
 "cells": [
  {
   "cell_type": "code",
   "execution_count": 19,
   "metadata": {},
   "outputs": [],
   "source": [
    "from selenium import webdriver\n",
    "from selenium.webdriver.chrome.service import Service\n",
    "from selenium.webdriver.common.by import By\n",
    "from selenium.webdriver.support.ui import WebDriverWait\n",
    "from selenium.webdriver.support import expected_conditions as EC\n",
    "from IPython.display import Image, display\n",
    "import pandas as pd"
   ]
  },
  {
   "cell_type": "code",
   "execution_count": 13,
   "metadata": {},
   "outputs": [
    {
     "name": "stdout",
     "output_type": "stream",
     "text": [
      "Title: Team Assessing SHERLOC Instrument on NASA's Perseverance Rover\n",
      "Details: Engineers are working to stabilize a dust cover on one of the science instrument’s cameras.\n",
      "\n",
      "Title: After Three Years on Mars, NASA's Ingenuity Helicopter Mission Ends\n",
      "Details: NASA has proven powered, controlled flight is possible on other worlds, just as the Wright brothers proved it was possible on Earth.\n",
      "\n",
      "Title: 20 Years After Landing: How NASA's Twin Rovers Changed Mars Science\n",
      "Details: This month marks the 20th anniversary of Spirit and Opportunity’s landing on Mars, part of a mission whose legacy will extend far into the future.\n",
      "\n",
      "Title: NASA's Curiosity Rover Captures a Martian Day, From Dawn to Dusk\n",
      "Details: Videos from the rover show its shadow moving across the Martian surface during a 12-hour sequence while Curiosity remained parked.\n",
      "\n",
      "Title: NASA's Perseverance Rover Deciphers Ancient History of Martian Lake\n",
      "Details: Now at 1,000 days on Mars, the mission has traversed an ancient river and lake system, collecting valuable samples along the way.\n",
      "\n",
      "Title: NASA's MAVEN Observes the Disappearing Solar Wind\n",
      "Details: NASA’s MAVEN (Mars Atmosphere and Volatile EvolutioN) mission observed the dramatic and unexpected “disappearance” of a stream of charged particles constantly emanating off the Sun, known as the solar wind.\n",
      "\n",
      "Title: NASA Orbiter Snaps Stunning Views of Mars Horizon\n",
      "Details: The Odyssey orbiter captured clouds and dust in the Red Planet’s skies, along with one of its two tiny moons.\n",
      "\n",
      "Title: NASA Uses Two Worlds to Test Future Mars Helicopter Designs\n",
      "Details: Engineers will go beyond the ends of the Earth to find more performance for future Mars helicopters.\n",
      "\n",
      "Title: NASA's Mars Fleet Will Still Conduct Science While Lying Low\n",
      "Details: Rovers and orbiters will continue collecting limited data during a two-week communications pause due to the position of Earth, the Sun, and the Red Planet.\n",
      "\n",
      "Title: NASA's Curiosity Rover Clocks 4,000 Days on Mars\n",
      "Details: The mission team is making sure the robotic scientist is staying strong, despite wear and tear from its 11-year journey.\n",
      "\n",
      "Title: NASA Technologies Receive Multiple Nods in TIME Inventions of 2023\n",
      "Details: MOXIE, the oxygen-generating experiment aboard NASA’s Perseverance Mars rover, is among the technologies honored by the magazine.\n",
      "\n",
      "Title: NASA Is Locating Ice on Mars With This New Map\n",
      "Details: The map could help the agency decide where the first astronauts to the Red Planet should land. The more available water, the less missions will need to bring.\n",
      "\n",
      "Title: NASA's Perseverance Captures Dust-Filled Martian Whirlwind\n",
      "Details: The six-wheeled geologist spotted the twister as part of an atmospheric exploration of Jezero Crater.\n",
      "\n",
      "Title: Historic Wind Tunnel Facility Testing NASA's Mars Ascent Vehicle Rocket\n",
      "Details: The same facility that provided valuable testing for NASA missions to low-Earth orbit and the Moon is now helping the agency prepare to launch the first rocket from Mars.\n",
      "\n",
      "Title: NASA Releases Independent Review's Mars Sample Return Report\n",
      "Details: The agency established the board in May 2023 to evaluate the technical, cost, and schedule plans prior to confirmation of the mission’s design.\n",
      "\n",
      "Title: Autonomous Systems Help NASA's Perseverance Do More Science on Mars\n",
      "Details: A computer pilot helps NASA’s six-wheeled geologist as it searches for rock samples that could be brought to Earth for deeper investigation.\n",
      "\n",
      "Title: NASA's Curiosity Reaches Mars Ridge Where Water Left Debris Pileup\n",
      "Details: Believed to be a remnant of powerful ancient debris flows, Gediz Vallis Ridge is a destination long sought by the rover’s science team.\n",
      "\n",
      "Title: NASA's Oxygen-Generating Experiment MOXIE Completes Mars Mission\n",
      "Details: Riding with the Perseverance rover, the instrument has proved to be a viable technology for astronauts on Mars to produce oxygen for fuel and breathing.\n",
      "\n",
      "Title: NASA, Partners Study Ancient Life in Australia to Inform Mars Search\n",
      "Details: NASA is working with its international partners to study the ancient Earth as it relates to Mars\n",
      "\n",
      "Title: Watch NASA Engineers Put a Mars Lander's Legs to the Test\n",
      "Details: Sturdy legs are needed to absorb the impact of the heaviest spacecraft to ever touch down on the Red Planet.\n",
      "\n",
      "Title: Cracks in Ancient Martian Mud Surprise NASA's Curiosity Rover Team\n",
      "Details: A new paper suggests the same conditions that created the cracks could have been favorable to the emergence of microscopic life.\n",
      "\n",
      "Title: NASA's Ingenuity Mars Helicopter Flies Again After Unscheduled Landing\n",
      "Details: The helicopter performed a short hop to help the team better understand why its previous flight was interrupted.\n",
      "\n",
      "Title: NASA InSight Study Finds Mars Is Spinning Faster\n",
      "Details: Data sent by the spacecraft before it retired last December has provided new details about how fast the planet fast rotates and how much it wobbles.\n",
      "\n",
      "Title: NASA's Curiosity Rover Faces Its Toughest Climb Yet on Mars\n",
      "Details: Shortly before the rover’s 11th anniversary on the Red Planet, its team helped guide it up a steep, slippery slope to examine meteor craters.\n",
      "\n",
      "Title: NASA Mars Ascent Vehicle Continues Progress Toward Mars Sample Return\n",
      "Details: The first rocket launch from the surface of another planet will be accomplished using two solid rocket motors.\n",
      "\n",
      "Title: NASA's Perseverance Rover Sees Mars in a New Light\n",
      "Details: A cutting-edge instrument called SHERLOC, which hunts for molecules potentially related to ancient life, played a key role in a recent study.\n",
      "\n",
      "Title: Ancient River Is Helping NASA's Perseverance Mars Rover Do Its Work\n",
      "Details: The six-wheeled geologist is getting some assistance in its in search for diverse rock samples that could be brought to Earth for deeper investigation.\n",
      "\n",
      "Title: NASA's Ingenuity Mars Helicopter Phones Home\n",
      "Details: The intrepid rotorcraft may head skyward again within the week.\n",
      "\n",
      "Title: NASA's MAVEN Spacecraft Stuns with Ultraviolet Views of Red Planet\n",
      "Details: NASA’s MAVEN (Mars Atmosphere and Volatile EvolutioN) mission acquired stunning views of Mars in two ultraviolet images taken at different points along our neighboring planet’s orbit around the Sun.\n",
      "\n",
      "Title: Landing in Living Rooms: LEGO Models of NASA Mars Rover and Helicopter\n",
      "Details: A new STEM-themed kit developed in cooperation with NASA-JPL is designed to spark kids’ interest in engineering and space via traditional toys and augmented reality.\n",
      "\n",
      "Title: NASA's Curiosity Captures Martian Morning, Afternoon in New 'Postcard'\n",
      "Details: Lighting from two times of day was combined for a stunning view of terrain that the rover is leaving behind.\n",
      "\n",
      "Title: Why – and How – NASA Gives a Name to Every Spot It Studies on Mars\n",
      "Details: Martian maps are full of monikers recognizing places on Earth, explorers, and even cartoon characters.\n",
      "\n",
      "Title: NASA's Perseverance Rover Captures View of Mars' Belva Crater\n",
      "Details: The six-wheeled scientist encountered the crater during its latest science campaign in search of rock samples that could be brought to Earth for deeper investigation.\n",
      "\n",
      "Title: Images From NASA's Perseverance May Show Record of Wild Martian River\n",
      "Details: Evidence left in rocks is leading scientists to rethink what watery environments looked like on ancient Mars.\n",
      "\n",
      "Title: NASA Retires Mineral Mapping Instrument on Mars Orbiter\n",
      "Details: One of six instruments aboard the agency’s Mars Reconnaissance Orbiter, CRISM produced global maps of minerals on the Red Planet’s surface.\n",
      "\n",
      "Title: NASA InSight Study Provides Clearest Look Ever at Martian Core\n",
      "Details: A pair of quakes in 2021 sent seismic waves deep into the Red Planet’s core, giving scientists the best data yet on its size and composition.\n",
      "\n",
      "Title: NASA Selects 10 Scientists for International Mission to Martian Moons\n",
      "Details: JPL’s Abigail Fraeman will help study the composition of Phobos and Deimos using instruments on the Japan Aerospace Exploration Agency’s spacecraft.\n",
      "\n",
      "Title: NASA's Ingenuity Mars Helicopter Completes 50th Flight\n",
      "Details: The history-making rotorcraft has recently been negotiating some of the most hazardous terrain it’s encountered on the Red Planet.\n",
      "\n",
      "Title: NASA's Curiosity Mars Rover Gets a Major Software Upgrade\n",
      "Details: The update brings loads of improvements, the most significant being new driving capabilities.\n",
      "\n",
      "Title: NASA to Convene Mars Sample Return Review\n",
      "Details: The board, initiated by NASA, will provide added confidence that the program won’t exceed guidelines following an important upcoming milestone.\n",
      "\n"
     ]
    }
   ],
   "source": [
    "# Initialize the WebDriver\n",
    "driver_path = '/Users/jeremytallant/.wdm/drivers/chromedriver/mac64/121.0.6167.85/chromedriver-mac-arm64/chromedriver'\n",
    "service = Service(executable_path=driver_path)\n",
    "driver = webdriver.Chrome(service=service)\n",
    "\n",
    "# Navigate to the website\n",
    "url = \"https://mars.nasa.gov/news/?page=0&per_page=40&order=publish_date+desc%2Ccreated_at+desc&search=&category=19%2C165%2C184%2C204&blank_scope=Latest\"\n",
    "driver.get(url)\n",
    "\n",
    "# Wait for the page to load and titles to appear\n",
    "wait = WebDriverWait(driver, 10)\n",
    "wait.until(EC.visibility_of_element_located((By.CSS_SELECTOR, \"ul.item_list li.slide\")))\n",
    "\n",
    "# Retrieve titles and details\n",
    "articles = driver.find_elements(By.CSS_SELECTOR, \"ul.item_list li.slide\")\n",
    "for article in articles:\n",
    "    title = article.find_element(By.CSS_SELECTOR, \"div.content_title\").text\n",
    "    details = article.find_element(By.CSS_SELECTOR, \"div.article_teaser_body\").text\n",
    "    print(f\"Title: {title}\\nDetails: {details}\\n\")\n",
    "\n",
    "# Close the driver\n",
    "driver.quit()"
   ]
  },
  {
   "cell_type": "code",
   "execution_count": 17,
   "metadata": {},
   "outputs": [
    {
     "data": {
      "text/html": [
       "<img src=\"https://mars.nasa.gov/mars2020-raw-images/pub/ods/surface/sol/01054/ids/edr/browse/zcam/ZR0_1054_0760506529_706EBY_N0501250ZCAM09075_1100LMJ01_1200.jpg\"/>"
      ],
      "text/plain": [
       "<IPython.core.display.Image object>"
      ]
     },
     "metadata": {},
     "output_type": "display_data"
    }
   ],
   "source": [
    "# Initialize the WebDriver\n",
    "driver_path = '/Users/jeremytallant/.wdm/drivers/chromedriver/mac64/121.0.6167.85/chromedriver-mac-arm64/chromedriver'\n",
    "service = Service(executable_path=driver_path)\n",
    "driver = webdriver.Chrome(service=service)\n",
    "\n",
    "# Navigate to the website\n",
    "url = \"https://mars.nasa.gov/mars2020/multimedia/raw-images/image-of-the-week/\"\n",
    "driver.get(url)\n",
    "\n",
    "# Wait for the main image to load\n",
    "wait = WebDriverWait(driver, 10)\n",
    "image_element = wait.until(EC.presence_of_element_located((By.CSS_SELECTOR, \"div.main_image img\")))\n",
    "\n",
    "# Retrieve the image URL\n",
    "image_url = image_element.get_attribute('src')\n",
    "\n",
    "# Close the driver\n",
    "driver.quit()\n",
    "\n",
    "# Display the image in the notebook\n",
    "display(Image(url=image_url))"
   ]
  },
  {
   "cell_type": "code",
   "execution_count": 21,
   "metadata": {},
   "outputs": [
    {
     "name": "stderr",
     "output_type": "stream",
     "text": [
      "/var/folders/14/xtgnpdkd3lq7z9kzfy4k37ch0000gn/T/ipykernel_88496/3358861218.py:17: FutureWarning: Passing literal html to 'read_html' is deprecated and will be removed in a future version. To read from a literal string, wrap it in a 'StringIO' object.\n",
      "  df = pd.read_html(table_html)[0]\n"
     ]
    },
    {
     "data": {
      "text/html": [
       "<div>\n",
       "<style scoped>\n",
       "    .dataframe tbody tr th:only-of-type {\n",
       "        vertical-align: middle;\n",
       "    }\n",
       "\n",
       "    .dataframe tbody tr th {\n",
       "        vertical-align: top;\n",
       "    }\n",
       "\n",
       "    .dataframe thead th {\n",
       "        text-align: right;\n",
       "    }\n",
       "</style>\n",
       "<table border=\"1\" class=\"dataframe\">\n",
       "  <thead>\n",
       "    <tr style=\"text-align: right;\">\n",
       "      <th></th>\n",
       "      <th>Metric</th>\n",
       "      <th>Earth</th>\n",
       "      <th>Mars</th>\n",
       "    </tr>\n",
       "  </thead>\n",
       "  <tbody>\n",
       "    <tr>\n",
       "      <th>0</th>\n",
       "      <td>Average Distance from Sun</td>\n",
       "      <td>93 million miles</td>\n",
       "      <td>142 million miles</td>\n",
       "    </tr>\n",
       "    <tr>\n",
       "      <th>1</th>\n",
       "      <td>Average Speed in Orbiting Sun</td>\n",
       "      <td>18.5 miles per second</td>\n",
       "      <td>14.5 miles per second</td>\n",
       "    </tr>\n",
       "    <tr>\n",
       "      <th>2</th>\n",
       "      <td>Diameter</td>\n",
       "      <td>7,926 miles</td>\n",
       "      <td>4,220 miles</td>\n",
       "    </tr>\n",
       "    <tr>\n",
       "      <th>3</th>\n",
       "      <td>Tilt of Axis</td>\n",
       "      <td>23.5 degrees</td>\n",
       "      <td>25 degrees</td>\n",
       "    </tr>\n",
       "    <tr>\n",
       "      <th>4</th>\n",
       "      <td>Length of Year</td>\n",
       "      <td>365.25 Days</td>\n",
       "      <td>687 Earth Days</td>\n",
       "    </tr>\n",
       "    <tr>\n",
       "      <th>5</th>\n",
       "      <td>Length of Day</td>\n",
       "      <td>23 hours 56 minutes</td>\n",
       "      <td>24 hours 37 minutes</td>\n",
       "    </tr>\n",
       "    <tr>\n",
       "      <th>6</th>\n",
       "      <td>Gravity</td>\n",
       "      <td>2.66 times that of Mars</td>\n",
       "      <td>0.375 that of Earth</td>\n",
       "    </tr>\n",
       "    <tr>\n",
       "      <th>7</th>\n",
       "      <td>Temperature</td>\n",
       "      <td>Average 57 degrees F</td>\n",
       "      <td>Average -81 degrees F</td>\n",
       "    </tr>\n",
       "    <tr>\n",
       "      <th>8</th>\n",
       "      <td>Atmosphere</td>\n",
       "      <td>nitrogen, oxygen, argon, others</td>\n",
       "      <td>mostly carbon dioxide, some water vapor</td>\n",
       "    </tr>\n",
       "    <tr>\n",
       "      <th>9</th>\n",
       "      <td>Number of Moons</td>\n",
       "      <td>1</td>\n",
       "      <td>2</td>\n",
       "    </tr>\n",
       "  </tbody>\n",
       "</table>\n",
       "</div>"
      ],
      "text/plain": [
       "                          Metric                            Earth  \\\n",
       "0      Average Distance from Sun                 93 million miles   \n",
       "1  Average Speed in Orbiting Sun            18.5 miles per second   \n",
       "2                       Diameter                      7,926 miles   \n",
       "3                   Tilt of Axis                     23.5 degrees   \n",
       "4                 Length of Year                      365.25 Days   \n",
       "5                  Length of Day              23 hours 56 minutes   \n",
       "6                        Gravity          2.66 times that of Mars   \n",
       "7                    Temperature             Average 57 degrees F   \n",
       "8                     Atmosphere  nitrogen, oxygen, argon, others   \n",
       "9                Number of Moons                                1   \n",
       "\n",
       "                                      Mars  \n",
       "0                        142 million miles  \n",
       "1                    14.5 miles per second  \n",
       "2                              4,220 miles  \n",
       "3                               25 degrees  \n",
       "4                           687 Earth Days  \n",
       "5                      24 hours 37 minutes  \n",
       "6                      0.375 that of Earth  \n",
       "7                    Average -81 degrees F  \n",
       "8  mostly carbon dioxide, some water vapor  \n",
       "9                                        2  "
      ]
     },
     "execution_count": 21,
     "metadata": {},
     "output_type": "execute_result"
    }
   ],
   "source": [
    "# Initialize the WebDriver\n",
    "driver_path = '/Users/jeremytallant/.wdm/drivers/chromedriver/mac64/121.0.6167.85/chromedriver-mac-arm64/chromedriver'\n",
    "service = Service(executable_path=driver_path)\n",
    "driver = webdriver.Chrome(service=service)\n",
    "\n",
    "# Navigate to the website\n",
    "url = \"https://mars.nasa.gov/all-about-mars/facts/\"\n",
    "driver.get(url)\n",
    "\n",
    "# Extract the table HTML\n",
    "table_html = driver.find_element(By.CSS_SELECTOR, \"table.mb_table\").get_attribute('outerHTML')\n",
    "\n",
    "# Close the driver\n",
    "driver.quit()\n",
    "\n",
    "# Convert the HTML table to a pandas DataFrame\n",
    "df = pd.read_html(table_html)[0]\n",
    "\n",
    "# Rename DataFrame columns for clarity\n",
    "df.columns = ['Metric', 'Earth', 'Mars']\n",
    "\n",
    "df"
   ]
  },
  {
   "cell_type": "code",
   "execution_count": 22,
   "metadata": {},
   "outputs": [
    {
     "data": {
      "text/html": [
       "<img src=\"https://astrogeology.usgs.gov/cache/images/f5e372a36edfa389625da6d0cc25d905_cerberus_enhanced.tif_full.jpg\"/>"
      ],
      "text/plain": [
       "<IPython.core.display.Image object>"
      ]
     },
     "metadata": {},
     "output_type": "display_data"
    }
   ],
   "source": [
    "# Initialize the WebDriver\n",
    "driver_path = '/Users/jeremytallant/.wdm/drivers/chromedriver/mac64/121.0.6167.85/chromedriver-mac-arm64/chromedriver'\n",
    "service = Service(executable_path=driver_path)\n",
    "driver = webdriver.Chrome(service=service)\n",
    "\n",
    "# Navigate to the website\n",
    "url = \"https://astrogeology.usgs.gov/search/map/Mars/Viking/cerberus_enhanced\"\n",
    "driver.get(url)\n",
    "\n",
    "# Extract the image src\n",
    "image_element = driver.find_element(By.CSS_SELECTOR, \"img.wide-image\")\n",
    "image_src = image_element.get_attribute('src')\n",
    "\n",
    "# Construct the absolute URL\n",
    "base_url = \"https://astrogeology.usgs.gov\"\n",
    "image_url = base_url + image_src if image_src.startswith('/') else image_src\n",
    "\n",
    "# Close the driver\n",
    "driver.quit()\n",
    "\n",
    "# Display the image in the notebook\n",
    "display(Image(url=image_url))"
   ]
  },
  {
   "cell_type": "code",
   "execution_count": 23,
   "metadata": {},
   "outputs": [
    {
     "data": {
      "text/html": [
       "<img src=\"https://astrogeology.usgs.gov/cache/images/555e6403a6ddd7ba16ddb0e471cadcf7_syrtis_major_enhanced.tif_full.jpg\"/>"
      ],
      "text/plain": [
       "<IPython.core.display.Image object>"
      ]
     },
     "metadata": {},
     "output_type": "display_data"
    }
   ],
   "source": [
    "# Initialize the WebDriver\n",
    "driver_path = '/Users/jeremytallant/.wdm/drivers/chromedriver/mac64/121.0.6167.85/chromedriver-mac-arm64/chromedriver'\n",
    "service = Service(executable_path=driver_path)\n",
    "driver = webdriver.Chrome(service=service)\n",
    "\n",
    "# Navigate to the website\n",
    "url = \"https://astrogeology.usgs.gov/search/details/Mars/Viking/syrtis_major_enhanced/tif#:~:text=Mosaic%20of%20the%20Syrtis%20Major,in%20an%20point%20perspective%20projection.\"\n",
    "driver.get(url)\n",
    "\n",
    "# Extract the image src\n",
    "image_element = driver.find_element(By.CSS_SELECTOR, \"img.wide-image\")\n",
    "image_src = image_element.get_attribute('src')\n",
    "\n",
    "# Construct the absolute URL\n",
    "base_url = \"https://astrogeology.usgs.gov\"\n",
    "image_url = base_url + image_src if image_src.startswith('/') else image_src\n",
    "\n",
    "# Close the driver\n",
    "driver.quit()\n",
    "\n",
    "# Display the image in the notebook\n",
    "display(Image(url=image_url))"
   ]
  },
  {
   "cell_type": "code",
   "execution_count": 24,
   "metadata": {},
   "outputs": [
    {
     "data": {
      "text/html": [
       "<img src=\"https://astrogeology.usgs.gov/cache/images/3778f7b43bbbc89d6e3cfabb3613ba93_schiaparelli_enhanced.tif_full.jpg\"/>"
      ],
      "text/plain": [
       "<IPython.core.display.Image object>"
      ]
     },
     "metadata": {},
     "output_type": "display_data"
    }
   ],
   "source": [
    "# Initialize the WebDriver\n",
    "driver_path = '/Users/jeremytallant/.wdm/drivers/chromedriver/mac64/121.0.6167.85/chromedriver-mac-arm64/chromedriver'\n",
    "service = Service(executable_path=driver_path)\n",
    "driver = webdriver.Chrome(service=service)\n",
    "\n",
    "# Navigate to the website\n",
    "url = \"https://astrogeology.usgs.gov/search/map/Mars/Viking/schiaparelli_enhanced\"\n",
    "driver.get(url)\n",
    "\n",
    "# Extract the image src\n",
    "image_element = driver.find_element(By.CSS_SELECTOR, \"img.wide-image\")\n",
    "image_src = image_element.get_attribute('src')\n",
    "\n",
    "# Construct the absolute URL\n",
    "base_url = \"https://astrogeology.usgs.gov\"\n",
    "image_url = base_url + image_src if image_src.startswith('/') else image_src\n",
    "\n",
    "# Close the driver\n",
    "driver.quit()\n",
    "\n",
    "# Display the image in the notebook\n",
    "display(Image(url=image_url))"
   ]
  },
  {
   "cell_type": "code",
   "execution_count": 25,
   "metadata": {},
   "outputs": [
    {
     "data": {
      "text/html": [
       "<img src=\"https://astrogeology.usgs.gov/cache/images/b3c7c6c9138f57b4756be9b9c43e3a48_valles_marineris_enhanced.tif_full.jpg\"/>"
      ],
      "text/plain": [
       "<IPython.core.display.Image object>"
      ]
     },
     "metadata": {},
     "output_type": "display_data"
    }
   ],
   "source": [
    "# Initialize the WebDriver\n",
    "driver_path = '/Users/jeremytallant/.wdm/drivers/chromedriver/mac64/121.0.6167.85/chromedriver-mac-arm64/chromedriver'\n",
    "service = Service(executable_path=driver_path)\n",
    "driver = webdriver.Chrome(service=service)\n",
    "\n",
    "# Navigate to the website\n",
    "url = \"https://astrogeology.usgs.gov/search/map/Mars/Viking/valles_marineris_enhanced#:~:text=Mosaic%20of%20the%20Valles%20Marineris,6km%2Fpixel.\"\n",
    "driver.get(url)\n",
    "\n",
    "# Extract the image src\n",
    "image_element = driver.find_element(By.CSS_SELECTOR, \"img.wide-image\")\n",
    "image_src = image_element.get_attribute('src')\n",
    "\n",
    "# Construct the absolute URL\n",
    "base_url = \"https://astrogeology.usgs.gov\"\n",
    "image_url = base_url + image_src if image_src.startswith('/') else image_src\n",
    "\n",
    "# Close the driver\n",
    "driver.quit()\n",
    "\n",
    "# Display the image in the notebook\n",
    "display(Image(url=image_url))"
   ]
  }
 ],
 "metadata": {
  "kernelspec": {
   "display_name": "base",
   "language": "python",
   "name": "python3"
  },
  "language_info": {
   "codemirror_mode": {
    "name": "ipython",
    "version": 3
   },
   "file_extension": ".py",
   "mimetype": "text/x-python",
   "name": "python",
   "nbconvert_exporter": "python",
   "pygments_lexer": "ipython3",
   "version": "3.11.7"
  }
 },
 "nbformat": 4,
 "nbformat_minor": 2
}
